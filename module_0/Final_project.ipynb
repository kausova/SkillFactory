{
 "cells": [
  {
   "cell_type": "code",
   "execution_count": 1,
   "metadata": {},
   "outputs": [
    {
     "name": "stdout",
     "output_type": "stream",
     "text": [
      "Загадано число от 1 до 100\n",
      "Ваш алгоритм угадывает число в среднем за 5 попыток\n"
     ]
    },
    {
     "data": {
      "text/plain": [
       "5"
      ]
     },
     "execution_count": 1,
     "metadata": {},
     "output_type": "execute_result"
    }
   ],
   "source": [
    "import numpy as np\n",
    "number = np.random.randint(1, 101)    # загадали число\n",
    "print (\"Загадано число от 1 до 100\")\n",
    "\n",
    "    \n",
    "def guess_number(number):\n",
    "    \"\"\"Функция, определяющая к-во попыток для угадывания числа.\"\"\"\n",
    "    count = 0\n",
    "    lower_limit = 1 \n",
    "    upper_limit = 100\n",
    "    middle = 0\n",
    "    while number != middle:                          \n",
    "        count += 1                                     \n",
    "        middle = (lower_limit+upper_limit)//2  # определение середины диапазона отгадываемых чисел   \n",
    "        if number < middle: \n",
    "            upper_limit = middle - 1  # сдвиг верхней границы диапазона, если число меньше середины                  \n",
    "        elif number > middle: \n",
    "            lower_limit = middle + 1  # сдвиг нижней границы диапазона, если число больше середины                           \n",
    "    return count                                     \n",
    "\n",
    "\n",
    "def score_game(game_core):\n",
    "    \"\"\"Запускаем игру 1000 раз, чтобы узнать, как быстро игра угадывает число.\"\"\"\n",
    "    count_ls = []\n",
    "    np.random.seed(1)  # фиксируем RANDOM SEED, чтобы ваш эксперимент был воспроизводим!\n",
    "    random_array = np.random.randint(1, 101, size=(1000))\n",
    "    for number in random_array:\n",
    "        count_ls.append(game_core(number))\n",
    "    score = int(np.mean(count_ls))\n",
    "    print(f\"Ваш алгоритм угадывает число в среднем за {score} попыток\")\n",
    "    return score\n",
    "\n",
    "score_game(guess_number)\n"
   ]
  }
 ],
 "metadata": {
  "kernelspec": {
   "display_name": "Python 3",
   "language": "python",
   "name": "python3"
  },
  "language_info": {
   "codemirror_mode": {
    "name": "ipython",
    "version": 3
   },
   "file_extension": ".py",
   "mimetype": "text/x-python",
   "name": "python",
   "nbconvert_exporter": "python",
   "pygments_lexer": "ipython3",
   "version": "3.8.5"
  }
 },
 "nbformat": 4,
 "nbformat_minor": 4
}
