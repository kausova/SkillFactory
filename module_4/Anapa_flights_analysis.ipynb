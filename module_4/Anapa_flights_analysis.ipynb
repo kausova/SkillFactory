{
 "cells": [
  {
   "cell_type": "code",
   "execution_count": 1,
   "metadata": {},
   "outputs": [],
   "source": [
    "import numpy as np\n",
    "import matplotlib.pyplot as plt\n",
    "import seaborn as sns\n",
    "import datetime as dt\n",
    "import calendar\n",
    "import pandas as pd\n",
    "data = pd.read_excel('AnapaSalesfin.xlsx')"
   ]
  },
  {
   "cell_type": "code",
   "execution_count": 2,
   "metadata": {},
   "outputs": [
    {
     "name": "stdout",
     "output_type": "stream",
     "text": [
      "<class 'pandas.core.frame.DataFrame'>\n",
      "RangeIndex: 193 entries, 0 to 192\n",
      "Data columns (total 13 columns):\n",
      " #   Column               Non-Null Count  Dtype         \n",
      "---  ------               --------------  -----         \n",
      " 0   flight_id            193 non-null    int64         \n",
      " 1   flight_no            193 non-null    object        \n",
      " 2   departure_city       193 non-null    object        \n",
      " 3   arrival_city         193 non-null    object        \n",
      " 4   scheduled_departure  193 non-null    datetime64[ns]\n",
      " 5   seats_sold           180 non-null    float64       \n",
      " 6   economy_sold         180 non-null    float64       \n",
      " 7   business_sold        180 non-null    float64       \n",
      " 8   total_seats          193 non-null    int64         \n",
      " 9   economy_value        180 non-null    float64       \n",
      " 10  total_value          180 non-null    float64       \n",
      " 11  model                193 non-null    object        \n",
      " 12  flight_minutes       193 non-null    int64         \n",
      "dtypes: datetime64[ns](1), float64(5), int64(3), object(4)\n",
      "memory usage: 19.7+ KB\n"
     ]
    }
   ],
   "source": [
    "data.info()"
   ]
  },
  {
   "cell_type": "code",
   "execution_count": 3,
   "metadata": {},
   "outputs": [
    {
     "data": {
      "text/html": [
       "<div>\n",
       "<style scoped>\n",
       "    .dataframe tbody tr th:only-of-type {\n",
       "        vertical-align: middle;\n",
       "    }\n",
       "\n",
       "    .dataframe tbody tr th {\n",
       "        vertical-align: top;\n",
       "    }\n",
       "\n",
       "    .dataframe thead th {\n",
       "        text-align: right;\n",
       "    }\n",
       "</style>\n",
       "<table border=\"1\" class=\"dataframe\">\n",
       "  <thead>\n",
       "    <tr style=\"text-align: right;\">\n",
       "      <th></th>\n",
       "      <th>flight_id</th>\n",
       "      <th>flight_no</th>\n",
       "      <th>departure_city</th>\n",
       "      <th>arrival_city</th>\n",
       "      <th>scheduled_departure</th>\n",
       "      <th>seats_sold</th>\n",
       "      <th>economy_sold</th>\n",
       "      <th>business_sold</th>\n",
       "      <th>total_seats</th>\n",
       "      <th>economy_value</th>\n",
       "      <th>total_value</th>\n",
       "      <th>model</th>\n",
       "      <th>flight_minutes</th>\n",
       "    </tr>\n",
       "  </thead>\n",
       "  <tbody>\n",
       "    <tr>\n",
       "      <th>112</th>\n",
       "      <td>136678</td>\n",
       "      <td>PG0480</td>\n",
       "      <td>Anapa</td>\n",
       "      <td>Belgorod</td>\n",
       "      <td>2017-01-28 09:25:00</td>\n",
       "      <td>80.0</td>\n",
       "      <td>70.0</td>\n",
       "      <td>10.0</td>\n",
       "      <td>97</td>\n",
       "      <td>442200.0</td>\n",
       "      <td>631200.0</td>\n",
       "      <td>Sukhoi Superjet-100</td>\n",
       "      <td>50</td>\n",
       "    </tr>\n",
       "  </tbody>\n",
       "</table>\n",
       "</div>"
      ],
      "text/plain": [
       "     flight_id flight_no departure_city arrival_city scheduled_departure  \\\n",
       "112     136678    PG0480          Anapa     Belgorod 2017-01-28 09:25:00   \n",
       "\n",
       "     seats_sold  economy_sold  business_sold  total_seats  economy_value  \\\n",
       "112        80.0          70.0           10.0           97       442200.0   \n",
       "\n",
       "     total_value                model  flight_minutes  \n",
       "112     631200.0  Sukhoi Superjet-100              50  "
      ]
     },
     "execution_count": 3,
     "metadata": {},
     "output_type": "execute_result"
    }
   ],
   "source": [
    "data[data['flight_id'] == 136678]"
   ]
  },
  {
   "cell_type": "code",
   "execution_count": 4,
   "metadata": {},
   "outputs": [],
   "source": [
    "# рейсы без данных по пассажирам и к-ве проданных мест - все из Анапы в Новокузнецк\n",
    "data[data['economy_value'] == 0]\n",
    "\n",
    "# уберем их полностью, так как они не подходят для анализа прибыльности\n",
    "data = data[data['arrival_city'] != 'Novokuznetsk']"
   ]
  },
  {
   "cell_type": "markdown",
   "metadata": {},
   "source": [
    "Добавим новые столбцы:"
   ]
  },
  {
   "cell_type": "code",
   "execution_count": 5,
   "metadata": {},
   "outputs": [],
   "source": [
    "# день недели отправки рейса\n",
    "data['departure_day'] = data['scheduled_departure'].dt.weekday\n",
    "# время вылета\n",
    "data['departure_time'] = data['scheduled_departure'].apply(lambda x: x.time())\n",
    "# дата вылета\n",
    "data['departure_date'] = data['scheduled_departure'].apply(lambda x: x.date())\n",
    "# месяц вылета\n",
    "data['departure_month'] = data['scheduled_departure'].dt.month"
   ]
  },
  {
   "cell_type": "markdown",
   "metadata": {},
   "source": [
    "Из Анапы у нас летают два рейса в направлениях Анапа - Москва и Анапа-Белгород. За выбранный период было совершено по 90 перелетов в каждую сторону. При этом в Москву всегда летает Боинг, а в Белгород - Сухой. Рейс на Москву всегда отправляется в 10:05, а на Белгород  - в 9:25. В среднем, перелет в Москву длится 1 час и 40 минут, а в Белгород - 50 минут"
   ]
  },
  {
   "cell_type": "code",
   "execution_count": 6,
   "metadata": {},
   "outputs": [
    {
     "data": {
      "text/html": [
       "<div>\n",
       "<style scoped>\n",
       "    .dataframe tbody tr th:only-of-type {\n",
       "        vertical-align: middle;\n",
       "    }\n",
       "\n",
       "    .dataframe tbody tr th {\n",
       "        vertical-align: top;\n",
       "    }\n",
       "\n",
       "    .dataframe thead tr th {\n",
       "        text-align: left;\n",
       "    }\n",
       "\n",
       "    .dataframe thead tr:last-of-type th {\n",
       "        text-align: right;\n",
       "    }\n",
       "</style>\n",
       "<table border=\"1\" class=\"dataframe\">\n",
       "  <thead>\n",
       "    <tr>\n",
       "      <th></th>\n",
       "      <th></th>\n",
       "      <th></th>\n",
       "      <th></th>\n",
       "      <th>flight_id</th>\n",
       "      <th>flight_minutes</th>\n",
       "      <th>total_seats</th>\n",
       "    </tr>\n",
       "    <tr>\n",
       "      <th></th>\n",
       "      <th></th>\n",
       "      <th></th>\n",
       "      <th></th>\n",
       "      <th>count</th>\n",
       "      <th>mean</th>\n",
       "      <th>mean</th>\n",
       "    </tr>\n",
       "    <tr>\n",
       "      <th>flight_no</th>\n",
       "      <th>model</th>\n",
       "      <th>arrival_city</th>\n",
       "      <th>departure_time</th>\n",
       "      <th></th>\n",
       "      <th></th>\n",
       "      <th></th>\n",
       "    </tr>\n",
       "  </thead>\n",
       "  <tbody>\n",
       "    <tr>\n",
       "      <th>PG0252</th>\n",
       "      <th>Boeing 737-300</th>\n",
       "      <th>Moscow</th>\n",
       "      <th>10:05:00</th>\n",
       "      <td>90</td>\n",
       "      <td>99.966667</td>\n",
       "      <td>130</td>\n",
       "    </tr>\n",
       "    <tr>\n",
       "      <th>PG0480</th>\n",
       "      <th>Sukhoi Superjet-100</th>\n",
       "      <th>Belgorod</th>\n",
       "      <th>09:25:00</th>\n",
       "      <td>90</td>\n",
       "      <td>50.011111</td>\n",
       "      <td>97</td>\n",
       "    </tr>\n",
       "  </tbody>\n",
       "</table>\n",
       "</div>"
      ],
      "text/plain": [
       "                                                          flight_id  \\\n",
       "                                                              count   \n",
       "flight_no model               arrival_city departure_time             \n",
       "PG0252    Boeing 737-300      Moscow       10:05:00              90   \n",
       "PG0480    Sukhoi Superjet-100 Belgorod     09:25:00              90   \n",
       "\n",
       "                                                          flight_minutes  \\\n",
       "                                                                    mean   \n",
       "flight_no model               arrival_city departure_time                  \n",
       "PG0252    Boeing 737-300      Moscow       10:05:00            99.966667   \n",
       "PG0480    Sukhoi Superjet-100 Belgorod     09:25:00            50.011111   \n",
       "\n",
       "                                                          total_seats  \n",
       "                                                                 mean  \n",
       "flight_no model               arrival_city departure_time              \n",
       "PG0252    Boeing 737-300      Moscow       10:05:00               130  \n",
       "PG0480    Sukhoi Superjet-100 Belgorod     09:25:00                97  "
      ]
     },
     "execution_count": 6,
     "metadata": {},
     "output_type": "execute_result"
    }
   ],
   "source": [
    "# посмотрим, какие модели самолетов летают на рейсах из Анапы, куда и во сколько, а так же их среднюю длительность:\n",
    "data.groupby(['flight_no', 'model', 'arrival_city', 'departure_time']).agg({'flight_id': ['count'],\n",
    "                                                                            'flight_minutes': 'mean', 'total_seats': 'mean'})"
   ]
  },
  {
   "cell_type": "markdown",
   "metadata": {},
   "source": [
    "# Оценка прибыльности на основе дохода - расхода на топливо"
   ]
  },
  {
   "cell_type": "code",
   "execution_count": 7,
   "metadata": {},
   "outputs": [],
   "source": [
    "# добавим расход топлива в литрах (на час) для каждой модели:\n",
    "fuel_cons = {'Boeing 737-300': 2400,\n",
    "             'Sukhoi Superjet-100': 1700}\n",
    "\n",
    "# создадим новый признак расхода топлива для каждого рейса, исходя из длительности полета\n",
    "# делим на 1150 для перевода в тонны (плотность топлива ниже плотности воды: в среднем в одной тонне топлива - 1150 литров)\n",
    "data['used_fuel'] = data.apply(lambda row: fuel_cons[row['model']] / 60 * row['flight_minutes'] / 1150,\n",
    "                               axis=1)"
   ]
  },
  {
   "cell_type": "code",
   "execution_count": 8,
   "metadata": {
    "scrolled": true
   },
   "outputs": [],
   "source": [
    "# добавим цены на топливо для декабря 2016 года и января-февраля 2017 (https://favt.gov.ru/):\n",
    "fuel_prices = {12: 38867,\n",
    "               1: 41435,\n",
    "               2: 39553}\n",
    "\n",
    "# теперь можем посчитать расходы на топливо по каждому рейсу\n",
    "data['fuel_cost'] = data.apply(lambda row: round(fuel_prices[row['departure_month']]\n",
    "                                                 * row['used_fuel'], 2), axis=1)\n",
    "\n",
    "# выводим прибыль как разница между выручкой по билетам и расходом на топливо\n",
    "data['revenue'] = data['total_value'] - data['fuel_cost']"
   ]
  },
  {
   "cell_type": "markdown",
   "metadata": {},
   "source": [
    "Посмотрим на распределения: рейсы из Анапы в Москву более дорогостоящие в плане расхода на топливо (что ожидаемо исходя из длительности полета и бОльшего расхода Боинга), чем из Анапы в Белгород. "
   ]
  },
  {
   "cell_type": "code",
   "execution_count": 9,
   "metadata": {},
   "outputs": [
    {
     "data": {
      "text/plain": [
       "<AxesSubplot:xlabel='fuel_cost', ylabel='Count'>"
      ]
     },
     "execution_count": 9,
     "metadata": {},
     "output_type": "execute_result"
    },
    {
     "data": {
      "image/png": "[encoded data removed]",
      "text/plain": [
       "<Figure size 432x288 with 1 Axes>"
      ]
     },
     "metadata": {
      "needs_background": "light"
     },
     "output_type": "display_data"
    }
   ],
   "source": [
    "sns.histplot(data=data, x=data['fuel_cost'], hue=data['arrival_city'])"
   ]
  },
  {
   "cell_type": "markdown",
   "metadata": {},
   "source": [
    "Также рейсы в Москву, в общем, имеют бОльшую выручку (как результат более высокой цены за билет и/или бОльшей заполненности самолета). На графике видны некоторые рейсы по каждому направлению, где выручка, ниже чем у остальных (около 25 рейсов в Белгород и некоторые 10 рейсов в Москву - будет интересно посмотреть на них отдельно)"
   ]
  },
  {
   "cell_type": "code",
   "execution_count": 10,
   "metadata": {},
   "outputs": [
    {
     "data": {
      "text/plain": [
       "<AxesSubplot:xlabel='total_value', ylabel='Count'>"
      ]
     },
     "execution_count": 10,
     "metadata": {},
     "output_type": "execute_result"
    },
    {
     "data": {
      "image/png": "[encoded data removed]",
      "text/plain": [
       "<Figure size 432x288 with 1 Axes>"
      ]
     },
     "metadata": {
      "needs_background": "light"
     },
     "output_type": "display_data"
    }
   ],
   "source": [
    "sns.histplot(data=data, x=data['total_value'], hue=data['arrival_city'])"
   ]
  },
  {
   "cell_type": "markdown",
   "metadata": {},
   "source": [
    "Исходя из вышеописанного, ожидаемо, что и средяя прибыльность направления Анапа-Москва выше, чем Анапа-Белгород "
   ]
  },
  {
   "cell_type": "code",
   "execution_count": 11,
   "metadata": {},
   "outputs": [
    {
     "data": {
      "text/plain": [
       "<function matplotlib.pyplot.show(close=None, block=None)>"
      ]
     },
     "execution_count": 11,
     "metadata": {},
     "output_type": "execute_result"
    },
    {
     "data": {
      "image/png": "[encoded data removed]",
      "text/plain": [
       "<Figure size 432x288 with 1 Axes>"
      ]
     },
     "metadata": {
      "needs_background": "light"
     },
     "output_type": "display_data"
    }
   ],
   "source": [
    "table = data.groupby('arrival_city').revenue.mean().reset_index()\n",
    "gr = sns.barplot(x='arrival_city', y='revenue', data=table, palette='spring')\n",
    "\n",
    "\n",
    "for index, row in table.iterrows():\n",
    "    gr.text(row.name, row.revenue, round(\n",
    "        row.revenue), color='black', ha=\"center\")\n",
    "plt.show"
   ]
  },
  {
   "cell_type": "code",
   "execution_count": 12,
   "metadata": {},
   "outputs": [],
   "source": [
    "# таблица со средними значениями прибыльности по каждому направлению\n",
    "means = data.groupby('arrival_city').revenue.mean()\n",
    "\n",
    "\n",
    "def prof_check(row):\n",
    "    # функция определяющая, если данный рейс имеет прибыльность ниже среднего по своему направлению\n",
    "    if row['revenue'] < means[row['arrival_city']]:\n",
    "        return 'below_average'\n",
    "    else:\n",
    "        return 'ok'\n",
    "\n",
    "\n",
    "# создадим новый параметр на основе функции\n",
    "data['profit_type'] = data.apply(lambda x: prof_check(x), axis=1)"
   ]
  },
  {
   "cell_type": "code",
   "execution_count": 13,
   "metadata": {},
   "outputs": [],
   "source": [
    "# выведем параметр заполняемости рейса\n",
    "data['seat_coverage'] = data['seats_sold']/data['total_seats']"
   ]
  },
  {
   "cell_type": "markdown",
   "metadata": {},
   "source": [
    "Сравним заполненность рейсов с прибылью ниже среднего и с прибылью выше среднего для каждого из направлений.\n",
    "\n",
    "Очевидно, что в случае обоих направлений, рейсы с прибылью ниже среднего имеют более низкую заполненность по сравнению с теми, у которых прибыльность в норме"
   ]
  },
  {
   "cell_type": "code",
   "execution_count": 14,
   "metadata": {},
   "outputs": [
    {
     "data": {
      "text/plain": [
       "<matplotlib.legend.Legend at 0x7fe4e3145580>"
      ]
     },
     "execution_count": 14,
     "metadata": {},
     "output_type": "execute_result"
    },
    {
     "data": {
      "image/png": "[encoded data removed]",
      "text/plain": [
       "<Figure size 432x288 with 1 Axes>"
      ]
     },
     "metadata": {
      "needs_background": "light"
     },
     "output_type": "display_data"
    }
   ],
   "source": [
    "sc = data.groupby(['arrival_city', 'profit_type']\n",
    "                  ).seat_coverage.mean().reset_index()\n",
    "g = sns.barplot(x='arrival_city', y='seat_coverage',\n",
    "                data=sc, hue='profit_type', palette='summer')\n",
    "plt.legend(loc='lower center')"
   ]
  },
  {
   "cell_type": "markdown",
   "metadata": {},
   "source": [
    "Посмотрим, если заполненность может быть обусловлена ценой (например, цены в этот день были выше - поэтому спрос оказался меньше). Для этого посчитаем средние значения цены по классу Эконом (так как они составляют 90% мест) и сравним для обоих направлений для двух типов рейсов\n",
    "\n",
    "Видим, что цена здесь не является фактором:"
   ]
  },
  {
   "cell_type": "code",
   "execution_count": 15,
   "metadata": {},
   "outputs": [
    {
     "data": {
      "image/png": "[encoded data removed]",
      "text/plain": [
       "<Figure size 432x288 with 1 Axes>"
      ]
     },
     "metadata": {
      "needs_background": "light"
     },
     "output_type": "display_data"
    }
   ],
   "source": [
    "data['economy_price'] = data['economy_value'] / (data['economy_sold'])\n",
    "\n",
    "prices_e = data.groupby(['arrival_city', 'profit_type'])[\n",
    "    'economy_price'].mean().reset_index()\n",
    "g = sns.barplot(x='arrival_city', y='economy_price',\n",
    "                data=prices_e, hue='profit_type', palette='summer')"
   ]
  },
  {
   "cell_type": "markdown",
   "metadata": {},
   "source": [
    "Посмотрим на зависимость заполняемости от дня недели:\n",
    "для рейсов Анапа-Москва заметный спад к выходным, в то время как самая высокая заполняемость рейсов Анапа-Белгород наблюдается в среду"
   ]
  },
  {
   "cell_type": "code",
   "execution_count": 16,
   "metadata": {},
   "outputs": [
    {
     "data": {
      "text/plain": [
       "<matplotlib.legend.Legend at 0x7fe4e32ad130>"
      ]
     },
     "execution_count": 16,
     "metadata": {},
     "output_type": "execute_result"
    },
    {
     "data": {
      "image/png": "[encoded data removed]",
      "text/plain": [
       "<Figure size 432x288 with 1 Axes>"
      ]
     },
     "metadata": {
      "needs_background": "light"
     },
     "output_type": "display_data"
    }
   ],
   "source": [
    "day_seats = data.groupby(['arrival_city', 'departure_day']\n",
    "                         ).seat_coverage.mean().reset_index()\n",
    "sns.barplot(x='departure_day', y='seat_coverage',\n",
    "            data=day_seats, hue='arrival_city', palette='winter')\n",
    "plt.legend(loc='lower center')"
   ]
  },
  {
   "cell_type": "markdown",
   "metadata": {},
   "source": [
    "Посмотрим на заполненность рейсов с прибыльностью ниже среднего по дате\n",
    "\n",
    "Для рейса Анапа-Белгород сильно выбиваются низкие значения заполненности (<70%) в дни 2017-01-30 и 2017-02-23. \n",
    "Примечательно то, что во время новогодних праздников, вопреки ожиданиям, заполненность рейсов не значительно ниже"
   ]
  },
  {
   "cell_type": "code",
   "execution_count": 17,
   "metadata": {},
   "outputs": [
    {
     "data": {
      "image/png": "[encoded data removed]",
      "text/plain": [
       "<Figure size 720x720 with 1 Axes>"
      ]
     },
     "metadata": {
      "needs_background": "light"
     },
     "output_type": "display_data"
    }
   ],
   "source": [
    "dates_t = data[data['profit_type'] == 'below_average'][['arrival_city', 'departure_date',\n",
    "                                                        'seat_coverage']].sort_values(by=['arrival_city', 'departure_date'])\n",
    "fig_dims = (10, 10)\n",
    "fig, ax = plt.subplots(figsize=fig_dims)\n",
    "g = sns.barplot(x='departure_date', y='seat_coverage', ax=ax,\n",
    "                data=dates_t[dates_t['arrival_city'] == 'Belgorod'], palette='summer')\n",
    "g.set_xticklabels(g.get_xticklabels(), rotation=90)\n",
    "g.set_title('Anapa-Belgorod: seat coverage')\n",
    "plt.show()"
   ]
  },
  {
   "cell_type": "markdown",
   "metadata": {},
   "source": [
    "В отличие от рейса Анапа-Белгород, данные по Анапа-Москва более равномерны без очевидных выбросов "
   ]
  },
  {
   "cell_type": "code",
   "execution_count": 18,
   "metadata": {},
   "outputs": [
    {
     "data": {
      "image/png": "[encoded data removed]",
      "text/plain": [
       "<Figure size 720x720 with 1 Axes>"
      ]
     },
     "metadata": {
      "needs_background": "light"
     },
     "output_type": "display_data"
    }
   ],
   "source": [
    "fig_dims = (10, 10)\n",
    "fig, ax = plt.subplots(figsize=fig_dims)\n",
    "g1 = sns.barplot(x='departure_date', y='seat_coverage', ax=ax,\n",
    "                 data=dates_t[dates_t['arrival_city'] == 'Moscow'], palette='winter')\n",
    "g1.set_xticklabels(g1.get_xticklabels(), rotation=90)\n",
    "g1.set_title('Anapa-Moscow: seat coverage')\n",
    "plt.show()"
   ]
  },
  {
   "cell_type": "markdown",
   "metadata": {},
   "source": [
    "Воспользуемся формулой межквартильного расстояния для определения выбросов исходя из прибыльности рейсов по двум направлениям "
   ]
  },
  {
   "cell_type": "code",
   "execution_count": 19,
   "metadata": {
    "scrolled": true
   },
   "outputs": [
    {
     "data": {
      "text/html": [
       "<div>\n",
       "<style scoped>\n",
       "    .dataframe tbody tr th:only-of-type {\n",
       "        vertical-align: middle;\n",
       "    }\n",
       "\n",
       "    .dataframe tbody tr th {\n",
       "        vertical-align: top;\n",
       "    }\n",
       "\n",
       "    .dataframe thead th {\n",
       "        text-align: right;\n",
       "    }\n",
       "</style>\n",
       "<table border=\"1\" class=\"dataframe\">\n",
       "  <thead>\n",
       "    <tr style=\"text-align: right;\">\n",
       "      <th></th>\n",
       "      <th>flight_id</th>\n",
       "      <th>flight_no</th>\n",
       "      <th>departure_city</th>\n",
       "      <th>arrival_city</th>\n",
       "      <th>scheduled_departure</th>\n",
       "      <th>seats_sold</th>\n",
       "      <th>economy_sold</th>\n",
       "      <th>business_sold</th>\n",
       "      <th>total_seats</th>\n",
       "      <th>economy_value</th>\n",
       "      <th>...</th>\n",
       "      <th>departure_day</th>\n",
       "      <th>departure_time</th>\n",
       "      <th>departure_date</th>\n",
       "      <th>departure_month</th>\n",
       "      <th>used_fuel</th>\n",
       "      <th>fuel_cost</th>\n",
       "      <th>revenue</th>\n",
       "      <th>profit_type</th>\n",
       "      <th>seat_coverage</th>\n",
       "      <th>economy_price</th>\n",
       "    </tr>\n",
       "  </thead>\n",
       "  <tbody>\n",
       "    <tr>\n",
       "      <th>102</th>\n",
       "      <td>136642</td>\n",
       "      <td>PG0480</td>\n",
       "      <td>Anapa</td>\n",
       "      <td>Belgorod</td>\n",
       "      <td>2017-01-30 09:25:00</td>\n",
       "      <td>64.0</td>\n",
       "      <td>54.0</td>\n",
       "      <td>10.0</td>\n",
       "      <td>97</td>\n",
       "      <td>342000.0</td>\n",
       "      <td>...</td>\n",
       "      <td>0</td>\n",
       "      <td>09:25:00</td>\n",
       "      <td>2017-01-30</td>\n",
       "      <td>1</td>\n",
       "      <td>1.207246</td>\n",
       "      <td>50022.25</td>\n",
       "      <td>480977.75</td>\n",
       "      <td>below_average</td>\n",
       "      <td>0.659794</td>\n",
       "      <td>6333.333333</td>\n",
       "    </tr>\n",
       "    <tr>\n",
       "      <th>144</th>\n",
       "      <td>136807</td>\n",
       "      <td>PG0480</td>\n",
       "      <td>Anapa</td>\n",
       "      <td>Belgorod</td>\n",
       "      <td>2017-02-23 09:25:00</td>\n",
       "      <td>68.0</td>\n",
       "      <td>60.0</td>\n",
       "      <td>8.0</td>\n",
       "      <td>97</td>\n",
       "      <td>379800.0</td>\n",
       "      <td>...</td>\n",
       "      <td>3</td>\n",
       "      <td>09:25:00</td>\n",
       "      <td>2017-02-23</td>\n",
       "      <td>2</td>\n",
       "      <td>1.231884</td>\n",
       "      <td>48724.71</td>\n",
       "      <td>482275.29</td>\n",
       "      <td>below_average</td>\n",
       "      <td>0.701031</td>\n",
       "      <td>6330.000000</td>\n",
       "    </tr>\n",
       "  </tbody>\n",
       "</table>\n",
       "<p>2 rows × 23 columns</p>\n",
       "</div>"
      ],
      "text/plain": [
       "     flight_id flight_no departure_city arrival_city scheduled_departure  \\\n",
       "102     136642    PG0480          Anapa     Belgorod 2017-01-30 09:25:00   \n",
       "144     136807    PG0480          Anapa     Belgorod 2017-02-23 09:25:00   \n",
       "\n",
       "     seats_sold  economy_sold  business_sold  total_seats  economy_value  ...  \\\n",
       "102        64.0          54.0           10.0           97       342000.0  ...   \n",
       "144        68.0          60.0            8.0           97       379800.0  ...   \n",
       "\n",
       "     departure_day departure_time  departure_date  departure_month used_fuel  \\\n",
       "102              0       09:25:00      2017-01-30                1  1.207246   \n",
       "144              3       09:25:00      2017-02-23                2  1.231884   \n",
       "\n",
       "    fuel_cost    revenue    profit_type  seat_coverage  economy_price  \n",
       "102  50022.25  480977.75  below_average       0.659794    6333.333333  \n",
       "144  48724.71  482275.29  below_average       0.701031    6330.000000  \n",
       "\n",
       "[2 rows x 23 columns]"
      ]
     },
     "execution_count": 19,
     "metadata": {},
     "output_type": "execute_result"
    }
   ],
   "source": [
    "def low_limit(dataset, city, column):\n",
    "    # формула для определения нижней границы данных по формуле межквартильного расстояния\n",
    "    q = np.quantile(dataset[dataset['arrival_city']\n",
    "                            == city][column], [0.25, 0.75])\n",
    "    IQR = q[1] - q[0]\n",
    "    return q[0] - 1.5*IQR\n",
    "\n",
    "\n",
    "# выводим рейсы на Белгород, прибыльность которых ниже определенного по формуле значения\n",
    "data[(data['arrival_city'] == 'Belgorod') & (\n",
    "    data['revenue'] < low_limit(data, 'Belgorod', 'revenue'))]"
   ]
  },
  {
   "cell_type": "code",
   "execution_count": 20,
   "metadata": {},
   "outputs": [
    {
     "data": {
      "text/html": [
       "<div>\n",
       "<style scoped>\n",
       "    .dataframe tbody tr th:only-of-type {\n",
       "        vertical-align: middle;\n",
       "    }\n",
       "\n",
       "    .dataframe tbody tr th {\n",
       "        vertical-align: top;\n",
       "    }\n",
       "\n",
       "    .dataframe thead th {\n",
       "        text-align: right;\n",
       "    }\n",
       "</style>\n",
       "<table border=\"1\" class=\"dataframe\">\n",
       "  <thead>\n",
       "    <tr style=\"text-align: right;\">\n",
       "      <th></th>\n",
       "      <th>flight_id</th>\n",
       "      <th>flight_no</th>\n",
       "      <th>departure_city</th>\n",
       "      <th>arrival_city</th>\n",
       "      <th>scheduled_departure</th>\n",
       "      <th>seats_sold</th>\n",
       "      <th>economy_sold</th>\n",
       "      <th>business_sold</th>\n",
       "      <th>total_seats</th>\n",
       "      <th>economy_value</th>\n",
       "      <th>...</th>\n",
       "      <th>departure_day</th>\n",
       "      <th>departure_time</th>\n",
       "      <th>departure_date</th>\n",
       "      <th>departure_month</th>\n",
       "      <th>used_fuel</th>\n",
       "      <th>fuel_cost</th>\n",
       "      <th>revenue</th>\n",
       "      <th>profit_type</th>\n",
       "      <th>seat_coverage</th>\n",
       "      <th>economy_price</th>\n",
       "    </tr>\n",
       "  </thead>\n",
       "  <tbody>\n",
       "  </tbody>\n",
       "</table>\n",
       "<p>0 rows × 23 columns</p>\n",
       "</div>"
      ],
      "text/plain": [
       "Empty DataFrame\n",
       "Columns: [flight_id, flight_no, departure_city, arrival_city, scheduled_departure, seats_sold, economy_sold, business_sold, total_seats, economy_value, total_value, model, flight_minutes, departure_day, departure_time, departure_date, departure_month, used_fuel, fuel_cost, revenue, profit_type, seat_coverage, economy_price]\n",
       "Index: []\n",
       "\n",
       "[0 rows x 23 columns]"
      ]
     },
     "execution_count": 20,
     "metadata": {},
     "output_type": "execute_result"
    }
   ],
   "source": [
    "# выбросов с точки зрения прибыльности среди рейсов Анапа-Москва обнаружено не было\n",
    "data[(data['arrival_city'] == 'Moscow') & (\n",
    "    data['revenue'] < low_limit(data, 'Moscow', 'revenue'))]"
   ]
  },
  {
   "cell_type": "code",
   "execution_count": 21,
   "metadata": {},
   "outputs": [
    {
     "data": {
      "image/png": "[encoded data removed]",
      "text/plain": [
       "<Figure size 720x720 with 1 Axes>"
      ]
     },
     "metadata": {
      "needs_background": "light"
     },
     "output_type": "display_data"
    }
   ],
   "source": [
    "# посмотрим на рейсы, прибыльность которых находится в первом квартиле\n",
    "filt_m = data[(data['arrival_city'] == 'Moscow')\n",
    "              & (data['revenue'] < np.quantile(data[data['arrival_city']\n",
    "                                                    == 'Moscow']['revenue'], 0.25))].sort_values(by='departure_date')\n",
    "\n",
    "fig_dims = (10, 10)\n",
    "fig, ax = plt.subplots(figsize=fig_dims)\n",
    "g1 = sns.barplot(x='departure_date', y='revenue', ax=ax,\n",
    "                 data=filt_m, palette='winter')\n",
    "g1.set_xticklabels(g1.get_xticklabels(), rotation=90)\n",
    "g1.set_title('Anapa-Moscow low profit flights: revenue')\n",
    "plt.show()"
   ]
  },
  {
   "cell_type": "markdown",
   "metadata": {},
   "source": [
    "На графике заметно, что среди всех самых низкоприбыльных рейсов Анапа-Москва, худшие из них случаются именно в декабре. \n",
    "Посмотрим на декабрьские рейсы из Анапы в Москву более детально, распределив по дням недели и сравним данное распределение с рейсами января"
   ]
  },
  {
   "cell_type": "code",
   "execution_count": 22,
   "metadata": {},
   "outputs": [
    {
     "data": {
      "image/png": "[encoded data removed]",
      "text/plain": [
       "<Figure size 432x288 with 1 Axes>"
      ]
     },
     "metadata": {
      "needs_background": "light"
     },
     "output_type": "display_data"
    }
   ],
   "source": [
    "dec = data[(data['departure_month'] == 12) & (data['arrival_city'] == 'Moscow')][['departure_day', 'revenue']]\n",
    "jan = data[(data['departure_month'] == 1) & (data['arrival_city'] == 'Moscow')][['departure_day', 'revenue']]\n",
    "sns.barplot(x='departure_day', y='revenue', data=jan, palette='spring')\n",
    "sns.barplot(x='departure_day', y='revenue', data=dec, palette='winter')\n",
    "plt.show()"
   ]
  },
  {
   "cell_type": "markdown",
   "metadata": {},
   "source": [
    "Действительно, как было замечено ранее, прибыльность рейсов выходных дней ниже, чем будних. \n",
    "Кроме этого, на графике заметно, что прибыльность субботних декабрських рейсов (зеленый цвет) Анапа-Москва горазде ниже, чем в январе (желтый).\n",
    "Следовательно, их можно пересмотреть:\n"
   ]
  },
  {
   "cell_type": "code",
   "execution_count": 23,
   "metadata": {
    "scrolled": true
   },
   "outputs": [
    {
     "data": {
      "text/html": [
       "<div>\n",
       "<style scoped>\n",
       "    .dataframe tbody tr th:only-of-type {\n",
       "        vertical-align: middle;\n",
       "    }\n",
       "\n",
       "    .dataframe tbody tr th {\n",
       "        vertical-align: top;\n",
       "    }\n",
       "\n",
       "    .dataframe thead th {\n",
       "        text-align: right;\n",
       "    }\n",
       "</style>\n",
       "<table border=\"1\" class=\"dataframe\">\n",
       "  <thead>\n",
       "    <tr style=\"text-align: right;\">\n",
       "      <th></th>\n",
       "      <th>flight_id</th>\n",
       "      <th>flight_no</th>\n",
       "      <th>departure_city</th>\n",
       "      <th>arrival_city</th>\n",
       "      <th>scheduled_departure</th>\n",
       "      <th>seats_sold</th>\n",
       "      <th>economy_sold</th>\n",
       "      <th>business_sold</th>\n",
       "      <th>total_seats</th>\n",
       "      <th>economy_value</th>\n",
       "      <th>...</th>\n",
       "      <th>departure_day</th>\n",
       "      <th>departure_time</th>\n",
       "      <th>departure_date</th>\n",
       "      <th>departure_month</th>\n",
       "      <th>used_fuel</th>\n",
       "      <th>fuel_cost</th>\n",
       "      <th>revenue</th>\n",
       "      <th>profit_type</th>\n",
       "      <th>seat_coverage</th>\n",
       "      <th>economy_price</th>\n",
       "    </tr>\n",
       "  </thead>\n",
       "  <tbody>\n",
       "    <tr>\n",
       "      <th>30</th>\n",
       "      <td>136253</td>\n",
       "      <td>PG0252</td>\n",
       "      <td>Anapa</td>\n",
       "      <td>Moscow</td>\n",
       "      <td>2016-12-24 10:05:00</td>\n",
       "      <td>93.0</td>\n",
       "      <td>82.0</td>\n",
       "      <td>11.0</td>\n",
       "      <td>130</td>\n",
       "      <td>1005200.0</td>\n",
       "      <td>...</td>\n",
       "      <td>5</td>\n",
       "      <td>10:05:00</td>\n",
       "      <td>2016-12-24</td>\n",
       "      <td>12</td>\n",
       "      <td>3.408696</td>\n",
       "      <td>132485.77</td>\n",
       "      <td>1275314.23</td>\n",
       "      <td>below_average</td>\n",
       "      <td>0.715385</td>\n",
       "      <td>12258.536585</td>\n",
       "    </tr>\n",
       "    <tr>\n",
       "      <th>47</th>\n",
       "      <td>136318</td>\n",
       "      <td>PG0252</td>\n",
       "      <td>Anapa</td>\n",
       "      <td>Moscow</td>\n",
       "      <td>2016-12-17 10:05:00</td>\n",
       "      <td>104.0</td>\n",
       "      <td>93.0</td>\n",
       "      <td>11.0</td>\n",
       "      <td>130</td>\n",
       "      <td>1141800.0</td>\n",
       "      <td>...</td>\n",
       "      <td>5</td>\n",
       "      <td>10:05:00</td>\n",
       "      <td>2016-12-17</td>\n",
       "      <td>12</td>\n",
       "      <td>3.547826</td>\n",
       "      <td>137893.36</td>\n",
       "      <td>1406506.64</td>\n",
       "      <td>below_average</td>\n",
       "      <td>0.800000</td>\n",
       "      <td>12277.419355</td>\n",
       "    </tr>\n",
       "    <tr>\n",
       "      <th>56</th>\n",
       "      <td>136352</td>\n",
       "      <td>PG0252</td>\n",
       "      <td>Anapa</td>\n",
       "      <td>Moscow</td>\n",
       "      <td>2016-12-10 10:05:00</td>\n",
       "      <td>92.0</td>\n",
       "      <td>82.0</td>\n",
       "      <td>10.0</td>\n",
       "      <td>130</td>\n",
       "      <td>1006400.0</td>\n",
       "      <td>...</td>\n",
       "      <td>5</td>\n",
       "      <td>10:05:00</td>\n",
       "      <td>2016-12-10</td>\n",
       "      <td>12</td>\n",
       "      <td>3.478261</td>\n",
       "      <td>135189.57</td>\n",
       "      <td>1237210.43</td>\n",
       "      <td>below_average</td>\n",
       "      <td>0.707692</td>\n",
       "      <td>12273.170732</td>\n",
       "    </tr>\n",
       "    <tr>\n",
       "      <th>59</th>\n",
       "      <td>136368</td>\n",
       "      <td>PG0252</td>\n",
       "      <td>Anapa</td>\n",
       "      <td>Moscow</td>\n",
       "      <td>2016-12-31 10:05:00</td>\n",
       "      <td>130.0</td>\n",
       "      <td>118.0</td>\n",
       "      <td>12.0</td>\n",
       "      <td>130</td>\n",
       "      <td>1446800.0</td>\n",
       "      <td>...</td>\n",
       "      <td>5</td>\n",
       "      <td>10:05:00</td>\n",
       "      <td>2016-12-31</td>\n",
       "      <td>12</td>\n",
       "      <td>3.478261</td>\n",
       "      <td>135189.57</td>\n",
       "      <td>1750810.43</td>\n",
       "      <td>ok</td>\n",
       "      <td>1.000000</td>\n",
       "      <td>12261.016949</td>\n",
       "    </tr>\n",
       "    <tr>\n",
       "      <th>65</th>\n",
       "      <td>136391</td>\n",
       "      <td>PG0252</td>\n",
       "      <td>Anapa</td>\n",
       "      <td>Moscow</td>\n",
       "      <td>2016-12-03 10:05:00</td>\n",
       "      <td>107.0</td>\n",
       "      <td>97.0</td>\n",
       "      <td>10.0</td>\n",
       "      <td>130</td>\n",
       "      <td>1190600.0</td>\n",
       "      <td>...</td>\n",
       "      <td>5</td>\n",
       "      <td>10:05:00</td>\n",
       "      <td>2016-12-03</td>\n",
       "      <td>12</td>\n",
       "      <td>3.478261</td>\n",
       "      <td>135189.57</td>\n",
       "      <td>1421410.43</td>\n",
       "      <td>below_average</td>\n",
       "      <td>0.823077</td>\n",
       "      <td>12274.226804</td>\n",
       "    </tr>\n",
       "  </tbody>\n",
       "</table>\n",
       "<p>5 rows × 23 columns</p>\n",
       "</div>"
      ],
      "text/plain": [
       "    flight_id flight_no departure_city arrival_city scheduled_departure  \\\n",
       "30     136253    PG0252          Anapa       Moscow 2016-12-24 10:05:00   \n",
       "47     136318    PG0252          Anapa       Moscow 2016-12-17 10:05:00   \n",
       "56     136352    PG0252          Anapa       Moscow 2016-12-10 10:05:00   \n",
       "59     136368    PG0252          Anapa       Moscow 2016-12-31 10:05:00   \n",
       "65     136391    PG0252          Anapa       Moscow 2016-12-03 10:05:00   \n",
       "\n",
       "    seats_sold  economy_sold  business_sold  total_seats  economy_value  ...  \\\n",
       "30        93.0          82.0           11.0          130      1005200.0  ...   \n",
       "47       104.0          93.0           11.0          130      1141800.0  ...   \n",
       "56        92.0          82.0           10.0          130      1006400.0  ...   \n",
       "59       130.0         118.0           12.0          130      1446800.0  ...   \n",
       "65       107.0          97.0           10.0          130      1190600.0  ...   \n",
       "\n",
       "    departure_day departure_time  departure_date  departure_month used_fuel  \\\n",
       "30              5       10:05:00      2016-12-24               12  3.408696   \n",
       "47              5       10:05:00      2016-12-17               12  3.547826   \n",
       "56              5       10:05:00      2016-12-10               12  3.478261   \n",
       "59              5       10:05:00      2016-12-31               12  3.478261   \n",
       "65              5       10:05:00      2016-12-03               12  3.478261   \n",
       "\n",
       "    fuel_cost     revenue    profit_type  seat_coverage  economy_price  \n",
       "30  132485.77  1275314.23  below_average       0.715385   12258.536585  \n",
       "47  137893.36  1406506.64  below_average       0.800000   12277.419355  \n",
       "56  135189.57  1237210.43  below_average       0.707692   12273.170732  \n",
       "59  135189.57  1750810.43             ok       1.000000   12261.016949  \n",
       "65  135189.57  1421410.43  below_average       0.823077   12274.226804  \n",
       "\n",
       "[5 rows x 23 columns]"
      ]
     },
     "execution_count": 23,
     "metadata": {},
     "output_type": "execute_result"
    }
   ],
   "source": [
    "# выводим данные по декабрьским субботним рейсам:\n",
    "data[(data['departure_month'] == 12) & (\n",
    "    data['arrival_city'] == 'Moscow') & (data['departure_day'] == 5)]"
   ]
  },
  {
   "cell_type": "markdown",
   "metadata": {},
   "source": [
    "Один из таких рейсов выпадает на 31-12-2016 и, как показывают данные, является очень даже прибыльным с полной посадкой, поэтому мы исключим его из выборки"
   ]
  },
  {
   "cell_type": "code",
   "execution_count": 24,
   "metadata": {},
   "outputs": [
    {
     "data": {
      "text/html": [
       "<div>\n",
       "<style scoped>\n",
       "    .dataframe tbody tr th:only-of-type {\n",
       "        vertical-align: middle;\n",
       "    }\n",
       "\n",
       "    .dataframe tbody tr th {\n",
       "        vertical-align: top;\n",
       "    }\n",
       "\n",
       "    .dataframe thead th {\n",
       "        text-align: right;\n",
       "    }\n",
       "</style>\n",
       "<table border=\"1\" class=\"dataframe\">\n",
       "  <thead>\n",
       "    <tr style=\"text-align: right;\">\n",
       "      <th></th>\n",
       "      <th>flight_id</th>\n",
       "      <th>flight_no</th>\n",
       "      <th>departure_city</th>\n",
       "      <th>arrival_city</th>\n",
       "      <th>scheduled_departure</th>\n",
       "      <th>seats_sold</th>\n",
       "      <th>economy_sold</th>\n",
       "      <th>business_sold</th>\n",
       "      <th>total_seats</th>\n",
       "      <th>economy_value</th>\n",
       "      <th>...</th>\n",
       "      <th>departure_day</th>\n",
       "      <th>departure_time</th>\n",
       "      <th>departure_date</th>\n",
       "      <th>departure_month</th>\n",
       "      <th>used_fuel</th>\n",
       "      <th>fuel_cost</th>\n",
       "      <th>revenue</th>\n",
       "      <th>profit_type</th>\n",
       "      <th>seat_coverage</th>\n",
       "      <th>economy_price</th>\n",
       "    </tr>\n",
       "  </thead>\n",
       "  <tbody>\n",
       "    <tr>\n",
       "      <th>30</th>\n",
       "      <td>136253</td>\n",
       "      <td>PG0252</td>\n",
       "      <td>Anapa</td>\n",
       "      <td>Moscow</td>\n",
       "      <td>2016-12-24 10:05:00</td>\n",
       "      <td>93.0</td>\n",
       "      <td>82.0</td>\n",
       "      <td>11.0</td>\n",
       "      <td>130</td>\n",
       "      <td>1005200.0</td>\n",
       "      <td>...</td>\n",
       "      <td>5</td>\n",
       "      <td>10:05:00</td>\n",
       "      <td>2016-12-24</td>\n",
       "      <td>12</td>\n",
       "      <td>3.408696</td>\n",
       "      <td>132485.77</td>\n",
       "      <td>1275314.23</td>\n",
       "      <td>below_average</td>\n",
       "      <td>0.715385</td>\n",
       "      <td>12258.536585</td>\n",
       "    </tr>\n",
       "    <tr>\n",
       "      <th>47</th>\n",
       "      <td>136318</td>\n",
       "      <td>PG0252</td>\n",
       "      <td>Anapa</td>\n",
       "      <td>Moscow</td>\n",
       "      <td>2016-12-17 10:05:00</td>\n",
       "      <td>104.0</td>\n",
       "      <td>93.0</td>\n",
       "      <td>11.0</td>\n",
       "      <td>130</td>\n",
       "      <td>1141800.0</td>\n",
       "      <td>...</td>\n",
       "      <td>5</td>\n",
       "      <td>10:05:00</td>\n",
       "      <td>2016-12-17</td>\n",
       "      <td>12</td>\n",
       "      <td>3.547826</td>\n",
       "      <td>137893.36</td>\n",
       "      <td>1406506.64</td>\n",
       "      <td>below_average</td>\n",
       "      <td>0.800000</td>\n",
       "      <td>12277.419355</td>\n",
       "    </tr>\n",
       "    <tr>\n",
       "      <th>56</th>\n",
       "      <td>136352</td>\n",
       "      <td>PG0252</td>\n",
       "      <td>Anapa</td>\n",
       "      <td>Moscow</td>\n",
       "      <td>2016-12-10 10:05:00</td>\n",
       "      <td>92.0</td>\n",
       "      <td>82.0</td>\n",
       "      <td>10.0</td>\n",
       "      <td>130</td>\n",
       "      <td>1006400.0</td>\n",
       "      <td>...</td>\n",
       "      <td>5</td>\n",
       "      <td>10:05:00</td>\n",
       "      <td>2016-12-10</td>\n",
       "      <td>12</td>\n",
       "      <td>3.478261</td>\n",
       "      <td>135189.57</td>\n",
       "      <td>1237210.43</td>\n",
       "      <td>below_average</td>\n",
       "      <td>0.707692</td>\n",
       "      <td>12273.170732</td>\n",
       "    </tr>\n",
       "    <tr>\n",
       "      <th>59</th>\n",
       "      <td>136368</td>\n",
       "      <td>PG0252</td>\n",
       "      <td>Anapa</td>\n",
       "      <td>Moscow</td>\n",
       "      <td>2016-12-31 10:05:00</td>\n",
       "      <td>130.0</td>\n",
       "      <td>118.0</td>\n",
       "      <td>12.0</td>\n",
       "      <td>130</td>\n",
       "      <td>1446800.0</td>\n",
       "      <td>...</td>\n",
       "      <td>5</td>\n",
       "      <td>10:05:00</td>\n",
       "      <td>2016-12-31</td>\n",
       "      <td>12</td>\n",
       "      <td>3.478261</td>\n",
       "      <td>135189.57</td>\n",
       "      <td>1750810.43</td>\n",
       "      <td>ok</td>\n",
       "      <td>1.000000</td>\n",
       "      <td>12261.016949</td>\n",
       "    </tr>\n",
       "    <tr>\n",
       "      <th>65</th>\n",
       "      <td>136391</td>\n",
       "      <td>PG0252</td>\n",
       "      <td>Anapa</td>\n",
       "      <td>Moscow</td>\n",
       "      <td>2016-12-03 10:05:00</td>\n",
       "      <td>107.0</td>\n",
       "      <td>97.0</td>\n",
       "      <td>10.0</td>\n",
       "      <td>130</td>\n",
       "      <td>1190600.0</td>\n",
       "      <td>...</td>\n",
       "      <td>5</td>\n",
       "      <td>10:05:00</td>\n",
       "      <td>2016-12-03</td>\n",
       "      <td>12</td>\n",
       "      <td>3.478261</td>\n",
       "      <td>135189.57</td>\n",
       "      <td>1421410.43</td>\n",
       "      <td>below_average</td>\n",
       "      <td>0.823077</td>\n",
       "      <td>12274.226804</td>\n",
       "    </tr>\n",
       "  </tbody>\n",
       "</table>\n",
       "<p>5 rows × 23 columns</p>\n",
       "</div>"
      ],
      "text/plain": [
       "    flight_id flight_no departure_city arrival_city scheduled_departure  \\\n",
       "30     136253    PG0252          Anapa       Moscow 2016-12-24 10:05:00   \n",
       "47     136318    PG0252          Anapa       Moscow 2016-12-17 10:05:00   \n",
       "56     136352    PG0252          Anapa       Moscow 2016-12-10 10:05:00   \n",
       "59     136368    PG0252          Anapa       Moscow 2016-12-31 10:05:00   \n",
       "65     136391    PG0252          Anapa       Moscow 2016-12-03 10:05:00   \n",
       "\n",
       "    seats_sold  economy_sold  business_sold  total_seats  economy_value  ...  \\\n",
       "30        93.0          82.0           11.0          130      1005200.0  ...   \n",
       "47       104.0          93.0           11.0          130      1141800.0  ...   \n",
       "56        92.0          82.0           10.0          130      1006400.0  ...   \n",
       "59       130.0         118.0           12.0          130      1446800.0  ...   \n",
       "65       107.0          97.0           10.0          130      1190600.0  ...   \n",
       "\n",
       "    departure_day departure_time  departure_date  departure_month used_fuel  \\\n",
       "30              5       10:05:00      2016-12-24               12  3.408696   \n",
       "47              5       10:05:00      2016-12-17               12  3.547826   \n",
       "56              5       10:05:00      2016-12-10               12  3.478261   \n",
       "59              5       10:05:00      2016-12-31               12  3.478261   \n",
       "65              5       10:05:00      2016-12-03               12  3.478261   \n",
       "\n",
       "    fuel_cost     revenue    profit_type  seat_coverage  economy_price  \n",
       "30  132485.77  1275314.23  below_average       0.715385   12258.536585  \n",
       "47  137893.36  1406506.64  below_average       0.800000   12277.419355  \n",
       "56  135189.57  1237210.43  below_average       0.707692   12273.170732  \n",
       "59  135189.57  1750810.43             ok       1.000000   12261.016949  \n",
       "65  135189.57  1421410.43  below_average       0.823077   12274.226804  \n",
       "\n",
       "[5 rows x 23 columns]"
      ]
     },
     "execution_count": 24,
     "metadata": {},
     "output_type": "execute_result"
    }
   ],
   "source": [
    "data[(data['departure_month'] == 12) & (data['arrival_city'] == 'Moscow') & (data['departure_day'] == 5)\n",
    "     & (data['departure_date'] != '2016-12-31')]"
   ]
  },
  {
   "cell_type": "markdown",
   "metadata": {},
   "source": [
    "Следующие 6 перелетов (2 в Белгород и 4 в Москву) были определены как самые низкоприбыльные и могут быть отменены в будущем:"
   ]
  },
  {
   "cell_type": "code",
   "execution_count": 25,
   "metadata": {},
   "outputs": [
    {
     "data": {
      "text/html": [
       "<div>\n",
       "<style scoped>\n",
       "    .dataframe tbody tr th:only-of-type {\n",
       "        vertical-align: middle;\n",
       "    }\n",
       "\n",
       "    .dataframe tbody tr th {\n",
       "        vertical-align: top;\n",
       "    }\n",
       "\n",
       "    .dataframe thead th {\n",
       "        text-align: right;\n",
       "    }\n",
       "</style>\n",
       "<table border=\"1\" class=\"dataframe\">\n",
       "  <thead>\n",
       "    <tr style=\"text-align: right;\">\n",
       "      <th></th>\n",
       "      <th>flight_id</th>\n",
       "      <th>flight_no</th>\n",
       "      <th>departure_city</th>\n",
       "      <th>arrival_city</th>\n",
       "      <th>scheduled_departure</th>\n",
       "      <th>seats_sold</th>\n",
       "      <th>economy_sold</th>\n",
       "      <th>business_sold</th>\n",
       "      <th>total_seats</th>\n",
       "      <th>economy_value</th>\n",
       "      <th>...</th>\n",
       "      <th>departure_day</th>\n",
       "      <th>departure_time</th>\n",
       "      <th>departure_date</th>\n",
       "      <th>departure_month</th>\n",
       "      <th>used_fuel</th>\n",
       "      <th>fuel_cost</th>\n",
       "      <th>revenue</th>\n",
       "      <th>profit_type</th>\n",
       "      <th>seat_coverage</th>\n",
       "      <th>economy_price</th>\n",
       "    </tr>\n",
       "  </thead>\n",
       "  <tbody>\n",
       "    <tr>\n",
       "      <th>30</th>\n",
       "      <td>136253</td>\n",
       "      <td>PG0252</td>\n",
       "      <td>Anapa</td>\n",
       "      <td>Moscow</td>\n",
       "      <td>2016-12-24 10:05:00</td>\n",
       "      <td>93.0</td>\n",
       "      <td>82.0</td>\n",
       "      <td>11.0</td>\n",
       "      <td>130</td>\n",
       "      <td>1005200.0</td>\n",
       "      <td>...</td>\n",
       "      <td>5</td>\n",
       "      <td>10:05:00</td>\n",
       "      <td>2016-12-24</td>\n",
       "      <td>12</td>\n",
       "      <td>3.408696</td>\n",
       "      <td>132485.77</td>\n",
       "      <td>1275314.23</td>\n",
       "      <td>below_average</td>\n",
       "      <td>0.715385</td>\n",
       "      <td>12258.536585</td>\n",
       "    </tr>\n",
       "    <tr>\n",
       "      <th>47</th>\n",
       "      <td>136318</td>\n",
       "      <td>PG0252</td>\n",
       "      <td>Anapa</td>\n",
       "      <td>Moscow</td>\n",
       "      <td>2016-12-17 10:05:00</td>\n",
       "      <td>104.0</td>\n",
       "      <td>93.0</td>\n",
       "      <td>11.0</td>\n",
       "      <td>130</td>\n",
       "      <td>1141800.0</td>\n",
       "      <td>...</td>\n",
       "      <td>5</td>\n",
       "      <td>10:05:00</td>\n",
       "      <td>2016-12-17</td>\n",
       "      <td>12</td>\n",
       "      <td>3.547826</td>\n",
       "      <td>137893.36</td>\n",
       "      <td>1406506.64</td>\n",
       "      <td>below_average</td>\n",
       "      <td>0.800000</td>\n",
       "      <td>12277.419355</td>\n",
       "    </tr>\n",
       "    <tr>\n",
       "      <th>56</th>\n",
       "      <td>136352</td>\n",
       "      <td>PG0252</td>\n",
       "      <td>Anapa</td>\n",
       "      <td>Moscow</td>\n",
       "      <td>2016-12-10 10:05:00</td>\n",
       "      <td>92.0</td>\n",
       "      <td>82.0</td>\n",
       "      <td>10.0</td>\n",
       "      <td>130</td>\n",
       "      <td>1006400.0</td>\n",
       "      <td>...</td>\n",
       "      <td>5</td>\n",
       "      <td>10:05:00</td>\n",
       "      <td>2016-12-10</td>\n",
       "      <td>12</td>\n",
       "      <td>3.478261</td>\n",
       "      <td>135189.57</td>\n",
       "      <td>1237210.43</td>\n",
       "      <td>below_average</td>\n",
       "      <td>0.707692</td>\n",
       "      <td>12273.170732</td>\n",
       "    </tr>\n",
       "    <tr>\n",
       "      <th>65</th>\n",
       "      <td>136391</td>\n",
       "      <td>PG0252</td>\n",
       "      <td>Anapa</td>\n",
       "      <td>Moscow</td>\n",
       "      <td>2016-12-03 10:05:00</td>\n",
       "      <td>107.0</td>\n",
       "      <td>97.0</td>\n",
       "      <td>10.0</td>\n",
       "      <td>130</td>\n",
       "      <td>1190600.0</td>\n",
       "      <td>...</td>\n",
       "      <td>5</td>\n",
       "      <td>10:05:00</td>\n",
       "      <td>2016-12-03</td>\n",
       "      <td>12</td>\n",
       "      <td>3.478261</td>\n",
       "      <td>135189.57</td>\n",
       "      <td>1421410.43</td>\n",
       "      <td>below_average</td>\n",
       "      <td>0.823077</td>\n",
       "      <td>12274.226804</td>\n",
       "    </tr>\n",
       "    <tr>\n",
       "      <th>102</th>\n",
       "      <td>136642</td>\n",
       "      <td>PG0480</td>\n",
       "      <td>Anapa</td>\n",
       "      <td>Belgorod</td>\n",
       "      <td>2017-01-30 09:25:00</td>\n",
       "      <td>64.0</td>\n",
       "      <td>54.0</td>\n",
       "      <td>10.0</td>\n",
       "      <td>97</td>\n",
       "      <td>342000.0</td>\n",
       "      <td>...</td>\n",
       "      <td>0</td>\n",
       "      <td>09:25:00</td>\n",
       "      <td>2017-01-30</td>\n",
       "      <td>1</td>\n",
       "      <td>1.207246</td>\n",
       "      <td>50022.25</td>\n",
       "      <td>480977.75</td>\n",
       "      <td>below_average</td>\n",
       "      <td>0.659794</td>\n",
       "      <td>6333.333333</td>\n",
       "    </tr>\n",
       "    <tr>\n",
       "      <th>144</th>\n",
       "      <td>136807</td>\n",
       "      <td>PG0480</td>\n",
       "      <td>Anapa</td>\n",
       "      <td>Belgorod</td>\n",
       "      <td>2017-02-23 09:25:00</td>\n",
       "      <td>68.0</td>\n",
       "      <td>60.0</td>\n",
       "      <td>8.0</td>\n",
       "      <td>97</td>\n",
       "      <td>379800.0</td>\n",
       "      <td>...</td>\n",
       "      <td>3</td>\n",
       "      <td>09:25:00</td>\n",
       "      <td>2017-02-23</td>\n",
       "      <td>2</td>\n",
       "      <td>1.231884</td>\n",
       "      <td>48724.71</td>\n",
       "      <td>482275.29</td>\n",
       "      <td>below_average</td>\n",
       "      <td>0.701031</td>\n",
       "      <td>6330.000000</td>\n",
       "    </tr>\n",
       "  </tbody>\n",
       "</table>\n",
       "<p>6 rows × 23 columns</p>\n",
       "</div>"
      ],
      "text/plain": [
       "     flight_id flight_no departure_city arrival_city scheduled_departure  \\\n",
       "30      136253    PG0252          Anapa       Moscow 2016-12-24 10:05:00   \n",
       "47      136318    PG0252          Anapa       Moscow 2016-12-17 10:05:00   \n",
       "56      136352    PG0252          Anapa       Moscow 2016-12-10 10:05:00   \n",
       "65      136391    PG0252          Anapa       Moscow 2016-12-03 10:05:00   \n",
       "102     136642    PG0480          Anapa     Belgorod 2017-01-30 09:25:00   \n",
       "144     136807    PG0480          Anapa     Belgorod 2017-02-23 09:25:00   \n",
       "\n",
       "     seats_sold  economy_sold  business_sold  total_seats  economy_value  ...  \\\n",
       "30         93.0          82.0           11.0          130      1005200.0  ...   \n",
       "47        104.0          93.0           11.0          130      1141800.0  ...   \n",
       "56         92.0          82.0           10.0          130      1006400.0  ...   \n",
       "65        107.0          97.0           10.0          130      1190600.0  ...   \n",
       "102        64.0          54.0           10.0           97       342000.0  ...   \n",
       "144        68.0          60.0            8.0           97       379800.0  ...   \n",
       "\n",
       "     departure_day departure_time  departure_date  departure_month used_fuel  \\\n",
       "30               5       10:05:00      2016-12-24               12  3.408696   \n",
       "47               5       10:05:00      2016-12-17               12  3.547826   \n",
       "56               5       10:05:00      2016-12-10               12  3.478261   \n",
       "65               5       10:05:00      2016-12-03               12  3.478261   \n",
       "102              0       09:25:00      2017-01-30                1  1.207246   \n",
       "144              3       09:25:00      2017-02-23                2  1.231884   \n",
       "\n",
       "     fuel_cost     revenue    profit_type  seat_coverage  economy_price  \n",
       "30   132485.77  1275314.23  below_average       0.715385   12258.536585  \n",
       "47   137893.36  1406506.64  below_average       0.800000   12277.419355  \n",
       "56   135189.57  1237210.43  below_average       0.707692   12273.170732  \n",
       "65   135189.57  1421410.43  below_average       0.823077   12274.226804  \n",
       "102   50022.25   480977.75  below_average       0.659794    6333.333333  \n",
       "144   48724.71   482275.29  below_average       0.701031    6330.000000  \n",
       "\n",
       "[6 rows x 23 columns]"
      ]
     },
     "execution_count": 25,
     "metadata": {},
     "output_type": "execute_result"
    }
   ],
   "source": [
    "ids_to_cancel = [136642, 136807, 136253, 136318, 136352,  136391]\n",
    "\n",
    "data.loc[data.apply(lambda x: x['flight_id'] in ids_to_cancel, axis=1)]"
   ]
  }
 ],
 "metadata": {
  "kernelspec": {
   "display_name": "Python 3",
   "language": "python",
   "name": "python3"
  },
  "language_info": {
   "codemirror_mode": {
    "name": "ipython",
    "version": 3
   },
   "file_extension": ".py",
   "mimetype": "text/x-python",
   "name": "python",
   "nbconvert_exporter": "python",
   "pygments_lexer": "ipython3",
   "version": "3.8.5"
  }
 },
 "nbformat": 4,
 "nbformat_minor": 4
}
